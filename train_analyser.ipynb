{
 "cells": [
  {
   "cell_type": "code",
   "execution_count": 1,
   "metadata": {
    "scrolled": true
   },
   "outputs": [
    {
     "name": "stdout",
     "output_type": "stream",
     "text": [
      "WARNING:tensorflow:From C:\\Users\\Debadyuti\\anaconda3\\envs\\videoquality\\lib\\site-packages\\tensorflow_core\\python\\compat\\v2_compat.py:88: disable_resource_variables (from tensorflow.python.ops.variable_scope) is deprecated and will be removed in a future version.\n",
      "Instructions for updating:\n",
      "non-resource variables are not supported in the long term\n"
     ]
    }
   ],
   "source": [
    "import tensorflow.compat.v1 as tf\n",
    "from tensorflow.keras.models import Sequential\n",
    "from tensorflow.keras.layers import Dense, Dropout, Activation, Flatten, Conv2D, MaxPooling2D\n",
    "import pickle\n",
    "from sklearn.model_selection import train_test_split\n",
    "tf.disable_v2_behavior()\n"
   ]
  },
  {
   "cell_type": "code",
   "execution_count": 2,
   "metadata": {},
   "outputs": [],
   "source": [
    "X = pickle.load(open(\"X.pickle\", \"rb\"))\n",
    "y = pickle.load(open(\"y.pickle\", \"rb\"))"
   ]
  },
  {
   "cell_type": "code",
   "execution_count": 3,
   "metadata": {},
   "outputs": [],
   "source": [
    "X = X/255.0"
   ]
  },
  {
   "cell_type": "code",
   "execution_count": 4,
   "metadata": {},
   "outputs": [],
   "source": [
    "tf.keras.backend.clear_session()"
   ]
  },
  {
   "cell_type": "code",
   "execution_count": 5,
   "metadata": {},
   "outputs": [
    {
     "name": "stdout",
     "output_type": "stream",
     "text": [
      "WARNING:tensorflow:From C:\\Users\\Debadyuti\\anaconda3\\envs\\videoquality\\lib\\site-packages\\tensorflow_core\\python\\ops\\resource_variable_ops.py:1635: calling BaseResourceVariable.__init__ (from tensorflow.python.ops.resource_variable_ops) with constraint is deprecated and will be removed in a future version.\n",
      "Instructions for updating:\n",
      "If using Keras pass *_constraint arguments to layers.\n",
      "Train on 11116 samples, validate on 2780 samples\n",
      "Epoch 1/10\n",
      "11116/11116 [==============================] - 302s 27ms/sample - loss: 0.6086 - acc: 0.6170 - val_loss: 0.1708 - val_acc: 0.9565\n",
      "Epoch 2/10\n",
      "11116/11116 [==============================] - 313s 28ms/sample - loss: 0.0815 - acc: 0.9661 - val_loss: 0.0492 - val_acc: 0.9773\n",
      "Epoch 3/10\n",
      "11116/11116 [==============================] - 321s 29ms/sample - loss: 0.0527 - acc: 0.9740 - val_loss: 0.0520 - val_acc: 0.9784\n",
      "Epoch 4/10\n",
      "11116/11116 [==============================] - 334s 30ms/sample - loss: 0.0502 - acc: 0.9767 - val_loss: 0.0510 - val_acc: 0.9781\n",
      "Epoch 5/10\n",
      "11116/11116 [==============================] - 332s 30ms/sample - loss: 0.0466 - acc: 0.9788 - val_loss: 0.0366 - val_acc: 0.9824\n",
      "Epoch 6/10\n",
      "11116/11116 [==============================] - 316s 28ms/sample - loss: 0.0390 - acc: 0.9827 - val_loss: 0.0314 - val_acc: 0.9831\n",
      "Epoch 7/10\n",
      "11116/11116 [==============================] - 353s 32ms/sample - loss: 0.0396 - acc: 0.9832 - val_loss: 0.0267 - val_acc: 0.9853\n",
      "Epoch 8/10\n",
      "11116/11116 [==============================] - 345s 31ms/sample - loss: 0.0428 - acc: 0.9809 - val_loss: 0.0313 - val_acc: 0.9827\n",
      "Epoch 9/10\n",
      "11116/11116 [==============================] - 339s 31ms/sample - loss: 0.0402 - acc: 0.9841 - val_loss: 0.0316 - val_acc: 0.9824\n",
      "Epoch 10/10\n",
      "11116/11116 [==============================] - 317s 29ms/sample - loss: 0.0296 - acc: 0.9853 - val_loss: 0.0310 - val_acc: 0.9842\n"
     ]
    }
   ],
   "source": [
    "\n",
    "model = Sequential()\n",
    "model.add(Conv2D(64, (3,3), input_shape = X.shape[1:]))\n",
    "model.add(Activation(\"relu\"))\n",
    "model.add(MaxPooling2D(pool_size=(2,2)))\n",
    "\n",
    "model.add(Conv2D(64, (3,3)))\n",
    "model.add(Activation(\"relu\"))\n",
    "model.add(MaxPooling2D(pool_size=(2,2)))\n",
    "\n",
    "model.add(Conv2D(64, (3,3)))\n",
    "model.add(Activation(\"relu\"))\n",
    "model.add(MaxPooling2D(pool_size=(2,2)))\n",
    "model.add(Dropout(0.5))\n",
    "\n",
    "model.add(Conv2D(64, (3,3)))\n",
    "model.add(Activation(\"relu\"))\n",
    "model.add(MaxPooling2D(pool_size=(2,2)))\n",
    "model.add(Dropout(0.5))\n",
    "\n",
    "model.add(Flatten())\n",
    "model.add(Dense(128))\n",
    "model.add(Dropout(0.5))\n",
    "model.add(Activation(\"relu\"))\n",
    "\n",
    "model.add(Dense(1))\n",
    "model.add(Activation(\"sigmoid\"))\n",
    "\n",
    "model.compile(loss=\"binary_crossentropy\", optimizer= \"adam\", metrics=[\"accuracy\"])\n",
    "\n",
    "model.fit(X, y, batch_size=16, epochs=10, validation_split=0.2)\n",
    "model.save('video-quality-cnn-video-1-dropouts-3-dense.model')"
   ]
  },
  {
   "cell_type": "code",
   "execution_count": null,
   "metadata": {},
   "outputs": [],
   "source": []
  },
  {
   "cell_type": "code",
   "execution_count": null,
   "metadata": {},
   "outputs": [],
   "source": []
  }
 ],
 "metadata": {
  "kernelspec": {
   "display_name": "videoquality",
   "language": "python",
   "name": "videoquality"
  },
  "language_info": {
   "codemirror_mode": {
    "name": "ipython",
    "version": 3
   },
   "file_extension": ".py",
   "mimetype": "text/x-python",
   "name": "python",
   "nbconvert_exporter": "python",
   "pygments_lexer": "ipython3",
   "version": "3.7.9"
  }
 },
 "nbformat": 4,
 "nbformat_minor": 4
}
