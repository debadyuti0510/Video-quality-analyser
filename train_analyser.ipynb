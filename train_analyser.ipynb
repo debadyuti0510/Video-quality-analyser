{
 "cells": [
  {
   "cell_type": "code",
   "execution_count": 1,
   "metadata": {
    "scrolled": true
   },
   "outputs": [
    {
     "name": "stdout",
     "output_type": "stream",
     "text": [
      "WARNING:tensorflow:From C:\\Users\\Debadyuti\\anaconda3\\envs\\videoquality\\lib\\site-packages\\tensorflow_core\\python\\compat\\v2_compat.py:88: disable_resource_variables (from tensorflow.python.ops.variable_scope) is deprecated and will be removed in a future version.\n",
      "Instructions for updating:\n",
      "non-resource variables are not supported in the long term\n"
     ]
    }
   ],
   "source": [
    "import tensorflow.compat.v1 as tf\n",
    "from tensorflow.keras.models import Sequential\n",
    "from tensorflow.keras.layers import Dense, Dropout, Activation, Flatten, Conv2D, MaxPooling2D\n",
    "import pickle\n",
    "import os\n",
    "tf.disable_v2_behavior()\n"
   ]
  },
  {
   "cell_type": "code",
   "execution_count": 2,
   "metadata": {},
   "outputs": [],
   "source": [
    "def load_and_normalize_data():\n",
    "    X = pickle.load(open(os.path.join(os.getcwd(), \"processed_data\", \"X.pickle\"), \"rb\"))\n",
    "    y = pickle.load(open(os.path.join(os.getcwd(), \"processed_data\", \"y.pickle\"), \"rb\"))\n",
    "    X = X/255.0 #Normalize/scale data to values between 0 and 1.\n",
    "    return X, y"
   ]
  },
  {
   "cell_type": "code",
   "execution_count": 3,
   "metadata": {},
   "outputs": [],
   "source": [
    "def create_model(X):\n",
    "    tf.keras.backend.clear_session()\n",
    "    model = Sequential()\n",
    "    model.add(Conv2D(64, (3,3), input_shape = X.shape[1:]))\n",
    "    model.add(Activation(\"relu\"))\n",
    "    model.add(MaxPooling2D(pool_size=(2,2)))\n",
    "\n",
    "    model.add(Conv2D(64, (3,3)))\n",
    "    model.add(Activation(\"relu\"))\n",
    "    model.add(MaxPooling2D(pool_size=(2,2)))\n",
    "\n",
    "    model.add(Conv2D(64, (3,3)))\n",
    "    model.add(Activation(\"relu\"))\n",
    "    model.add(MaxPooling2D(pool_size=(2,2)))\n",
    "\n",
    "\n",
    "    model.add(Conv2D(64, (3,3)))\n",
    "    model.add(Activation(\"relu\"))\n",
    "    model.add(MaxPooling2D(pool_size=(2,2)))\n",
    "    model.add(Dropout(0.5))\n",
    "\n",
    "    model.add(Flatten())\n",
    "    model.add(Dense(128))\n",
    "    model.add(Dropout(0.5))\n",
    "    model.add(Activation(\"relu\"))\n",
    "\n",
    "    model.add(Dense(1))\n",
    "    model.add(Activation(\"sigmoid\"))\n",
    "\n",
    "    model.compile(loss=\"binary_crossentropy\", optimizer= \"adam\", metrics=[\"accuracy\"])\n",
    "    return model"
   ]
  },
  {
   "cell_type": "code",
   "execution_count": 4,
   "metadata": {},
   "outputs": [],
   "source": [
    "'''\n",
    "Trains model for specified number of epochs\n",
    "and saves it.\n",
    "'''\n",
    "def train_model(model, X, y):\n",
    "    model.fit(X, y, batch_size=16, epochs=10, validation_split=0.2)\n",
    "    model.save(os.path.join(os.getcwd(), \"models\", \"video-quality-cnn-final-1.model\" ))"
   ]
  },
  {
   "cell_type": "code",
   "execution_count": 5,
   "metadata": {},
   "outputs": [
    {
     "name": "stdout",
     "output_type": "stream",
     "text": [
      "WARNING:tensorflow:From C:\\Users\\Debadyuti\\anaconda3\\envs\\videoquality\\lib\\site-packages\\tensorflow_core\\python\\ops\\resource_variable_ops.py:1635: calling BaseResourceVariable.__init__ (from tensorflow.python.ops.resource_variable_ops) with constraint is deprecated and will be removed in a future version.\n",
      "Instructions for updating:\n",
      "If using Keras pass *_constraint arguments to layers.\n",
      "Train on 11116 samples, validate on 2780 samples\n",
      "Epoch 1/10\n",
      "11116/11116 [==============================] - 308s 28ms/sample - loss: 0.2880 - acc: 0.8434 - val_loss: 0.0454 - val_acc: 0.9831\n",
      "Epoch 2/10\n",
      "11116/11116 [==============================] - 320s 29ms/sample - loss: 0.0584 - acc: 0.9765 - val_loss: 0.0335 - val_acc: 0.9878\n",
      "Epoch 3/10\n",
      "11116/11116 [==============================] - 324s 29ms/sample - loss: 0.0454 - acc: 0.9813 - val_loss: 0.0234 - val_acc: 0.9924\n",
      "Epoch 4/10\n",
      "11116/11116 [==============================] - 316s 28ms/sample - loss: 0.0386 - acc: 0.9845 - val_loss: 0.0285 - val_acc: 0.9903\n",
      "Epoch 5/10\n",
      "11116/11116 [==============================] - 334s 30ms/sample - loss: 0.0250 - acc: 0.9900 - val_loss: 0.0256 - val_acc: 0.9899\n",
      "Epoch 6/10\n",
      "11116/11116 [==============================] - 337s 30ms/sample - loss: 0.0318 - acc: 0.9886 - val_loss: 0.0341 - val_acc: 0.9871\n",
      "Epoch 7/10\n",
      "11116/11116 [==============================] - 341s 31ms/sample - loss: 0.0246 - acc: 0.9896 - val_loss: 0.0226 - val_acc: 0.9939\n",
      "Epoch 8/10\n",
      "11116/11116 [==============================] - 333s 30ms/sample - loss: 0.0471 - acc: 0.9834 - val_loss: 0.0280 - val_acc: 0.9906\n",
      "Epoch 9/10\n",
      "11116/11116 [==============================] - 307s 28ms/sample - loss: 0.0210 - acc: 0.9915 - val_loss: 0.0273 - val_acc: 0.9903\n",
      "Epoch 10/10\n",
      "11116/11116 [==============================] - 321s 29ms/sample - loss: 0.0203 - acc: 0.9917 - val_loss: 0.0360 - val_acc: 0.9924\n"
     ]
    }
   ],
   "source": [
    "if __name__ == \"__main__\":\n",
    "\n",
    "    X, y = load_and_normalize_data()\n",
    "    \n",
    "    model = create_model(X)\n",
    "    \n",
    "    train_model(model, X, y)\n",
    "    \n",
    "\n",
    "\n"
   ]
  }
 ],
 "metadata": {
  "kernelspec": {
   "display_name": "videoquality",
   "language": "python",
   "name": "videoquality"
  },
  "language_info": {
   "codemirror_mode": {
    "name": "ipython",
    "version": 3
   },
   "file_extension": ".py",
   "mimetype": "text/x-python",
   "name": "python",
   "nbconvert_exporter": "python",
   "pygments_lexer": "ipython3",
   "version": "3.7.9"
  }
 },
 "nbformat": 4,
 "nbformat_minor": 4
}
