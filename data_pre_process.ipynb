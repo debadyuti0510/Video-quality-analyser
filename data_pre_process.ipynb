{
 "cells": [
  {
   "cell_type": "code",
   "execution_count": 1,
   "metadata": {},
   "outputs": [],
   "source": [
    "import numpy as np\n",
    "import os\n",
    "import cv2\n",
    "import random\n",
    "import pickle"
   ]
  },
  {
   "cell_type": "code",
   "execution_count": 2,
   "metadata": {},
   "outputs": [],
   "source": [
    "DATADIR = os.path.join(os.getcwd(), \"processed_data\")\n",
    "CATEGORIES = [\"SD\", \"HD\"]\n",
    "IMG_SIZE_R = 512\n",
    "IMG_SIZE_C = 512\n",
    "training_data = []\n",
    "X = []\n",
    "y = []"
   ]
  },
  {
   "cell_type": "code",
   "execution_count": 3,
   "metadata": {},
   "outputs": [],
   "source": [
    "'''\n",
    "\n",
    "Read the images for all the  categories from their respective \n",
    "folders and store them with their respective class number and\n",
    "shuffle the data.\n",
    "\n",
    "'''\n",
    "def create_training_data():\n",
    "    for category in CATEGORIES:\n",
    "        path = os.path.join(DATADIR, category)\n",
    "        class_num = CATEGORIES.index(category)\n",
    "        for img in os.listdir(path):\n",
    "            img_array = cv2.imread(os.path.join(path, img), cv2.IMREAD_GRAYSCALE)\n",
    "            new_array = cv2.resize(img_array, (IMG_SIZE_R, IMG_SIZE_C))\n",
    "            training_data.append([new_array, class_num])\n",
    "    random.shuffle(training_data)"
   ]
  },
  {
   "cell_type": "code",
   "execution_count": 4,
   "metadata": {},
   "outputs": [],
   "source": [
    "'''\n",
    "\n",
    "Create two lists, 'X' for data to be trained on and 'y'\n",
    "for labels. Convert the 'X' into a numpy array and \n",
    "reshape it to specified dimensions. Save X and y as pickle\n",
    "files.\n",
    "\n",
    "'''\n",
    "def dump_pickle_data():\n",
    "    global X, y\n",
    "    for fts, label in training_data:\n",
    "        X.append(fts)\n",
    "        y.append(label)\n",
    "    \n",
    "    X = np.array(X).reshape(-1, IMG_SIZE_R, IMG_SIZE_C, 1)\n",
    "    pickle_out = open(os.path.join(DATADIR, \"X.pickle\"), \"wb\")\n",
    "    pickle.dump(X, pickle_out)\n",
    "    pickle_out.close()\n",
    "\n",
    "    pickle_out = open(os.path.join(DATADIR, \"y.pickle\"), \"wb\")\n",
    "    pickle.dump(y, pickle_out)\n",
    "    pickle_out.close()"
   ]
  },
  {
   "cell_type": "code",
   "execution_count": 6,
   "metadata": {},
   "outputs": [
    {
     "name": "stdout",
     "output_type": "stream",
     "text": [
      "Dataset size: 13896\n",
      "Shuffled y values - first 10: [1, 0, 1, 0, 1, 1, 0, 0, 1, 0]\n"
     ]
    }
   ],
   "source": [
    "if __name__==\"__main__\":\n",
    "    create_training_data()\n",
    "    \n",
    "    print(\"Dataset size: \" + str(len(training_data)))\n",
    "    \n",
    "    dump_pickle_data()\n",
    "    \n",
    "    print(\"Shuffled y values - first 10: {}\".format(y[:10]))"
   ]
  },
  {
   "cell_type": "code",
   "execution_count": null,
   "metadata": {},
   "outputs": [],
   "source": []
  }
 ],
 "metadata": {
  "kernelspec": {
   "display_name": "videoquality",
   "language": "python",
   "name": "videoquality"
  },
  "language_info": {
   "codemirror_mode": {
    "name": "ipython",
    "version": 3
   },
   "file_extension": ".py",
   "mimetype": "text/x-python",
   "name": "python",
   "nbconvert_exporter": "python",
   "pygments_lexer": "ipython3",
   "version": "3.7.9"
  }
 },
 "nbformat": 4,
 "nbformat_minor": 4
}
